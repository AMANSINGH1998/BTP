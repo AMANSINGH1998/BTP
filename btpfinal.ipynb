{
 "cells": [
  {
   "cell_type": "markdown",
   "metadata": {},
   "source": [
    "# SIR model"
   ]
  },
  {
   "cell_type": "markdown",
   "metadata": {},
   "source": [
    "#SUSCEPTIBLE TO INFECTED\n"
   ]
  },
  {
   "cell_type": "code",
   "execution_count": 11,
   "metadata": {},
   "outputs": [],
   "source": [
    "# contact rate - how often do susceptable ppl come in contact"
   ]
  },
  {
   "cell_type": "code",
   "execution_count": 12,
   "metadata": {},
   "outputs": [],
   "source": [
    "# risk of infection -during one of those interactions what is chance of spreading the disease?\n"
   ]
  },
  {
   "cell_type": "code",
   "execution_count": 13,
   "metadata": {},
   "outputs": [],
   "source": [
    "#for eg if I meet 3 people every day and spread disease with a rate of 50%"
   ]
  },
  {
   "cell_type": "code",
   "execution_count": 14,
   "metadata": {},
   "outputs": [],
   "source": [
    "# 3*0.5"
   ]
  },
  {
   "cell_type": "code",
   "execution_count": 15,
   "metadata": {},
   "outputs": [],
   "source": [
    "#1.5 people are infected every day also known as effective contact rate=contact rate* risk of infection"
   ]
  },
  {
   "cell_type": "markdown",
   "metadata": {},
   "source": [
    "aka moving from susceptible to infected"
   ]
  },
  {
   "cell_type": "code",
   "execution_count": 17,
   "metadata": {},
   "outputs": [],
   "source": [
    "#INFECTED TO REMOVED"
   ]
  },
  {
   "cell_type": "code",
   "execution_count": 18,
   "metadata": {},
   "outputs": [],
   "source": [
    "#2 ways to move from infected to removed\n",
    "#1 people recover\n",
    "#2 people die"
   ]
  },
  {
   "cell_type": "code",
   "execution_count": 19,
   "metadata": {},
   "outputs": [],
   "source": [
    "#removal rate  =1/recovery period\n",
    "# if we have 200 people on day 10 and recovery period is 1o days"
   ]
  },
  {
   "cell_type": "code",
   "execution_count": 20,
   "metadata": {},
   "outputs": [],
   "source": [
    "# 200*(1/10)"
   ]
  },
  {
   "cell_type": "code",
   "execution_count": 21,
   "metadata": {},
   "outputs": [],
   "source": [
    "#=20 people removed"
   ]
  },
  {
   "cell_type": "markdown",
   "metadata": {},
   "source": [
    "# WHAT IS R0 - basic reproductive rate the measure of average multiplication of a disease"
   ]
  },
  {
   "cell_type": "code",
   "execution_count": 23,
   "metadata": {},
   "outputs": [],
   "source": [
    "# R0 = effective contact rate/removal rate"
   ]
  },
  {
   "cell_type": "code",
   "execution_count": 24,
   "metadata": {},
   "outputs": [],
   "source": [
    "# therefore if effective contact rate is 1.5 and removal rate is 1/10\n",
    "# R0 = 1.5/0.1=15(very severe)"
   ]
  },
  {
   "cell_type": "code",
   "execution_count": 25,
   "metadata": {},
   "outputs": [],
   "source": [
    "#if R0>1 disease will spread"
   ]
  },
  {
   "cell_type": "code",
   "execution_count": null,
   "metadata": {},
   "outputs": [],
   "source": [
    "#if R0<1 disease will die out"
   ]
  },
  {
   "cell_type": "code",
   "execution_count": null,
   "metadata": {},
   "outputs": [],
   "source": []
  },
  {
   "cell_type": "markdown",
   "metadata": {},
   "source": [
    "https://rssdss.design.blog/2020/03/31/all-models-are-wrong-but-some-are-completely-wrong/"
   ]
  },
  {
   "cell_type": "markdown",
   "metadata": {},
   "source": [
    "#assumption that epidemic is short"
   ]
  },
  {
   "cell_type": "markdown",
   "metadata": {},
   "source": [
    "#assumption rate of increase in infectives is proportional to contact between susceptible and infected"
   ]
  },
  {
   "cell_type": "markdown",
   "metadata": {},
   "source": [
    "#infective recover die at constant rate"
   ]
  },
  {
   "cell_type": "markdown",
   "metadata": {},
   "source": [
    "I=infected\n",
    "S=susceptable\n",
    "R=removed\n",
    "r=rate of infection\n",
    "ds/dt=-rIS(rate of contact,infected,susceptibles)"
   ]
  },
  {
   "cell_type": "markdown",
   "metadata": {},
   "source": [
    "dI/dt=rIS-aI(infected are being removed)\n",
    "dR/dt=aI\n",
    "Initially \n",
    "S=S’\n",
    "I=I’\n",
    "R=0\n"
   ]
  },
  {
   "cell_type": "markdown",
   "metadata": {},
   "source": [
    "S<S’(for spread)\n",
    "dI/dt<I(rS’-a)\n",
    "If S’>a/r (disease will spread)\n",
    "r/a = q(contact ratio -number of people which come in contact with infected population)\n",
    "R0=rS’/a(basic reproductive number)>1(for disease to spread(R0 is 3-4 for COVID 19))\n"
   ]
  },
  {
   "cell_type": "markdown",
   "metadata": {},
   "source": [
    "What would be the maximum number of people affected?\n",
    "dI/dS=(rIS-aI)/-rIS = -1+a/rS=-1+1/qs\n",
    "I+S-1/q(LogN(S))=I’+S’-1/q(LogN(S’))\n",
    "dI/dS=0 if S=1/q\n",
    "Imax =I’+S’-1(1+LogN(qS’))/q\n",
    "plotting -(1/q)(1+LogN(qS'))"
   ]
  },
  {
   "cell_type": "code",
   "execution_count": 1,
   "metadata": {},
   "outputs": [],
   "source": [
    "import numpy as np"
   ]
  },
  {
   "cell_type": "code",
   "execution_count": 2,
   "metadata": {},
   "outputs": [],
   "source": [
    "import pandas as pd"
   ]
  },
  {
   "cell_type": "code",
   "execution_count": 3,
   "metadata": {},
   "outputs": [],
   "source": [
    "import matplotlib.pyplot as plt"
   ]
  },
  {
   "cell_type": "code",
   "execution_count": 7,
   "metadata": {},
   "outputs": [],
   "source": [
    "x = np.array(range(1,10000))"
   ]
  },
  {
   "cell_type": "code",
   "execution_count": 8,
   "metadata": {},
   "outputs": [],
   "source": [
    "y = (1+np.log(x))/x"
   ]
  },
  {
   "cell_type": "code",
   "execution_count": 9,
   "metadata": {},
   "outputs": [
    {
     "data": {
      "text/plain": [
       "[<matplotlib.lines.Line2D at 0x26428a12820>]"
      ]
     },
     "execution_count": 9,
     "metadata": {},
     "output_type": "execute_result"
    },
    {
     "data": {
      "image/png": "[encoded data removed]",
      "text/plain": [
       "<Figure size 432x288 with 1 Axes>"
      ]
     },
     "metadata": {
      "needs_background": "light"
     },
     "output_type": "display_data"
    }
   ],
   "source": [
    "plt.plot(x,y)"
   ]
  },
  {
   "cell_type": "markdown",
   "metadata": {},
   "source": [
    "Plotting 1(1+LogN(qS’))/q \n",
    "We see that this value decreases to zero that means maximum people infected can be almost all the people. This happens with new diseases such as COVID for whom the popultation has no Immunity and every one is susceptible.\n"
   ]
  },
  {
   "cell_type": "markdown",
   "metadata": {},
   "source": [
    "To reduce total number of people catching the disease we need to make value of 1(1+LogN(qS’))/q  as large as possible that implies we have to make q or contact ratio as small as possible"
   ]
  },
  {
   "cell_type": "markdown",
   "metadata": {},
   "source": [
    "# Model"
   ]
  },
  {
   "cell_type": "code",
   "execution_count": 10,
   "metadata": {},
   "outputs": [],
   "source": [
    "import pandas as pd\n",
    "import numpy as np\n",
    "from scipy.integrate import odeint\n",
    "import matplotlib.pyplot as plt"
   ]
  },
  {
   "cell_type": "code",
   "execution_count": 6,
   "metadata": {},
   "outputs": [],
   "source": [
    "# The SIR model differential equations.\n",
    "def deriv(state, t, N, beta, gamma):\n",
    "    S, I, R = state\n",
    "    # Change in S population over time\n",
    "    dSdt = -beta * S * I / N\n",
    "    # Change in I population over time\n",
    "    dIdt = beta * S * I / N - gamma * I\n",
    "    # Change in R population over time\n",
    "    dRdt = gamma * I\n",
    "    return dSdt, dIdt, dRdt"
   ]
  },
  {
   "cell_type": "code",
   "execution_count": 16,
   "metadata": {},
   "outputs": [
    {
     "name": "stdout",
     "output_type": "stream",
     "text": [
      "R0 is 3.0\n"
     ]
    },
    {
     "data": {
      "text/plain": [
       "<matplotlib.axes._subplots.AxesSubplot at 0x2642ac2d310>"
      ]
     },
     "execution_count": 16,
     "metadata": {},
     "output_type": "execute_result"
    },
    {
     "data": {
      "image/png": "[encoded data removed]",
      "text/plain": [
       "<Figure size 432x288 with 1 Axes>"
      ]
     },
     "metadata": {},
     "output_type": "display_data"
    }
   ],
   "source": [
    "#mean recovery period of covid is 6 days\n",
    "recovery_rate = 1/6\n",
    "#contact ratio with no lockdown\n",
    "effective_contact_rate = 0.5\n",
    "print(\"R0 is\", effective_contact_rate / recovery_rate) #R0 for India in first months\n",
    "#analysis would be for Kerala one of the first states to expirence covid\n",
    "#popuplation 3.68 crore is dialed down to 36.8 thousand for computation purposes\n",
    "total_pop = 36800\n",
    "recovered = 0\n",
    "infected = 1\n",
    "susceptible = total_pop - infected - recovered\n",
    "# A list of days, 0-90 or 3 months\n",
    "days = range(0, 90)\n",
    "\n",
    "# Use differential equations magic with our population\n",
    "ret = odeint(deriv,\n",
    "             [susceptible, infected, recovered],\n",
    "             days,\n",
    "             args=(total_pop, effective_contact_rate, recovery_rate))\n",
    "S, I, R = ret.T\n",
    "\n",
    "# Build a dataframe because why not\n",
    "df = pd.DataFrame({\n",
    "    'suseptible': S,\n",
    "    'infected': I,\n",
    "    'removed': R,\n",
    "    'day': days\n",
    "})\n",
    "\n",
    "plt.style.use('ggplot')\n",
    "df.plot(x='day',\n",
    "        y=['infected', 'suseptible', 'removed'],\n",
    "        color=['#bb6424', '#aac6ca', '#cc8ac0'],\n",
    "        kind='area',\n",
    "        stacked=True)\n"
   ]
  },
  {
   "cell_type": "code",
   "execution_count": 17,
   "metadata": {},
   "outputs": [],
   "source": [
    "#above graph does not take into account the lockdown imposed the lockdown would have decreased the effective contact ratio \n",
    "#and thus the spread\n",
    "#let\n",
    "effective_contact_rate = 0.31"
   ]
  },
  {
   "cell_type": "code",
   "execution_count": 19,
   "metadata": {},
   "outputs": [
    {
     "name": "stdout",
     "output_type": "stream",
     "text": [
      "R0 is 1.86\n"
     ]
    },
    {
     "data": {
      "text/plain": [
       "<matplotlib.axes._subplots.AxesSubplot at 0x2642ad0de20>"
      ]
     },
     "execution_count": 19,
     "metadata": {},
     "output_type": "execute_result"
    },
    {
     "data": {
      "image/png": "[encoded data removed]",
      "text/plain": [
       "<Figure size 432x288 with 1 Axes>"
      ]
     },
     "metadata": {},
     "output_type": "display_data"
    }
   ],
   "source": [
    "#mean recovery period of covid is 6 days\n",
    "recovery_rate = 1/6\n",
    "#contact ratio with no lockdown\n",
    "effective_contact_rate = 0.31\n",
    "print(\"R0 is\", effective_contact_rate / recovery_rate) #R0 for India in first months\n",
    "#analysis would be for Kerala one of the first states to expirence covid\n",
    "#popuplation 3.68 crore is dialed down to 36.8 thousand for computation purposes\n",
    "total_pop = 36800\n",
    "recovered = 0\n",
    "infected = 1\n",
    "susceptible = total_pop - infected - recovered\n",
    "# A list of days, 0-90 or 3 months\n",
    "days = range(0, 90)\n",
    "\n",
    "# Use differential equations magic with our population\n",
    "ret = odeint(deriv,\n",
    "             [susceptible, infected, recovered],\n",
    "             days,\n",
    "             args=(total_pop, effective_contact_rate, recovery_rate))\n",
    "S, I, R = ret.T\n",
    "\n",
    "# Build a dataframe because why not\n",
    "df = pd.DataFrame({\n",
    "    'suseptible': S,\n",
    "    'infected': I,\n",
    "    'removed': R,\n",
    "    'day': days\n",
    "})\n",
    "\n",
    "plt.style.use('ggplot')\n",
    "df.plot(x='day',\n",
    "        y=['infected', 'suseptible', 'removed'],\n",
    "        color=['#bb6424', '#aac6ca', '#cc8ac0'],\n",
    "        kind='area',\n",
    "        stacked=True)"
   ]
  },
  {
   "cell_type": "markdown",
   "metadata": {},
   "source": [
    "As u can see the 2 different approaches to tackle covid while imosing a lockdown reduces the number of eventually infected people but the peak comes late(70 days) as compared to no lockdown(30 days)"
   ]
  },
  {
   "cell_type": "code",
   "execution_count": 1,
   "metadata": {},
   "outputs": [],
   "source": [
    "import pandas as pd\n",
    "import numpy as np\n",
    "import matplotlib.pyplot as plt"
   ]
  },
  {
   "cell_type": "code",
   "execution_count": 2,
   "metadata": {},
   "outputs": [],
   "source": [
    "x = np.array(range(1,23))"
   ]
  },
  {
   "cell_type": "code",
   "execution_count": 3,
   "metadata": {},
   "outputs": [],
   "source": [
    "y =  np.power((1-(1/x)),1/2)"
   ]
  },
  {
   "cell_type": "code",
   "execution_count": 4,
   "metadata": {},
   "outputs": [
    {
     "data": {
      "text/plain": [
       "[<matplotlib.lines.Line2D at 0x17be5321f40>]"
      ]
     },
     "execution_count": 4,
     "metadata": {},
     "output_type": "execute_result"
    },
    {
     "data": {
      "image/png": "[encoded data removed]",
      "text/plain": [
       "<Figure size 432x288 with 1 Axes>"
      ]
     },
     "metadata": {
      "needs_background": "light"
     },
     "output_type": "display_data"
    }
   ],
   "source": [
    "plt.plot(x,y)"
   ]
  },
  {
   "cell_type": "code",
   "execution_count": 22,
   "metadata": {},
   "outputs": [],
   "source": [
    "def deriv(state, t, N, beta, gamma):\n",
    "    S, I, R = state\n",
    "    ui1=I*S*((beta*(S-I)/N)-gamma)\n",
    "    ui2=1-((beta/N)*5*(I-S))\n",
    "    uif=ui1/ui2\n",
    "    dSdt =(-beta * S * I / N)-(beta*5*uif/N)\n",
    "    dIdt = (beta * S * I / N) - (gamma * I)+((beta/N)*5*uif)\n",
    "    # Change in R population over time\n",
    "    dRdt = gamma * I\n",
    "    return dSdt, dIdt, dRdt\n",
    "    "
   ]
  },
  {
   "cell_type": "code",
   "execution_count": 23,
   "metadata": {},
   "outputs": [
    {
     "name": "stdout",
     "output_type": "stream",
     "text": [
      "R0 is 3.0\n"
     ]
    },
    {
     "data": {
      "text/plain": [
       "<matplotlib.axes._subplots.AxesSubplot at 0x24d8c80f070>"
      ]
     },
     "execution_count": 23,
     "metadata": {},
     "output_type": "execute_result"
    },
    {
     "data": {
      "image/png": "[encoded data removed]",
      "text/plain": [
       "<Figure size 432x288 with 1 Axes>"
      ]
     },
     "metadata": {},
     "output_type": "display_data"
    }
   ],
   "source": [
    "import pandas as pd\n",
    "import numpy as np\n",
    "from scipy.integrate import odeint\n",
    "import matplotlib.pyplot as plt\n",
    "#mean recovery period of covid is 6 days\n",
    "recovery_rate = 1/6\n",
    "#contact ratio with no lockdown\n",
    "effective_contact_rate = 0.5\n",
    "print(\"R0 is\", effective_contact_rate / recovery_rate) #R0 for India in first months\n",
    "#analysis would be for Kerala one of the first states to expirence covid\n",
    "#popuplation 3.68 crore is dialed down to 36.8 thousand for computation purposes\n",
    "total_pop = 36800\n",
    "recovered = 0\n",
    "infected = 1\n",
    "susceptible = total_pop - infected - recovered\n",
    "# A list of days, 0-90 or 3 months\n",
    "days = range(0, 90)\n",
    "\n",
    "# Use differential equations magic with our population\n",
    "ret = odeint(deriv,\n",
    "             [susceptible, infected, recovered],\n",
    "             days,\n",
    "             args=(total_pop, effective_contact_rate, recovery_rate))\n",
    "S, I, R = ret.T\n",
    "\n",
    "# Build a dataframe because why not\n",
    "df = pd.DataFrame({\n",
    "    'suseptible': S,\n",
    "    'infected': I,\n",
    "    'removed': R,\n",
    "    'day': days\n",
    "})\n",
    "\n",
    "plt.style.use('ggplot')\n",
    "df.plot(x='day',\n",
    "        y=['infected', 'suseptible', 'removed'],\n",
    "        color=['#bb6424', '#aac6ca', '#cc8ac0'],\n",
    "        kind='area',\n",
    "        stacked=True)\n"
   ]
  },
  {
   "cell_type": "markdown",
   "metadata": {},
   "source": [
    "We see that the shape of our graph is retained as\n",
    "the first time we made it but it has just shifted a little\n",
    "-It shows us that incubation period makes it difficult\n",
    "For people to quarantine themselves or remove \n",
    "themselves. So it makes for a sharper peak and an early peak since\n",
    "infected people remain in popluation for a long time.\n"
   ]
  }
 ],
 "metadata": {
  "kernelspec": {
   "display_name": "Python 3",
   "language": "python",
   "name": "python3"
  },
  "language_info": {
   "codemirror_mode": {
    "name": "ipython",
    "version": 3
   },
   "file_extension": ".py",
   "mimetype": "text/x-python",
   "name": "python",
   "nbconvert_exporter": "python",
   "pygments_lexer": "ipython3",
   "version": "3.8.3"
  }
 },
 "nbformat": 4,
 "nbformat_minor": 4
}
